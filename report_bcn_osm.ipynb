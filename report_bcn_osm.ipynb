{
 "cells": [
  {
   "cell_type": "markdown",
   "metadata": {},
   "source": [
    "# OpenStreetMap Project"
   ]
  },
  {
   "cell_type": "markdown",
   "metadata": {},
   "source": [
    "## Map Area"
   ]
  },
  {
   "cell_type": "markdown",
   "metadata": {},
   "source": [
    "I've chosen Barcelona, Spain because is the city where I'm living. Also, I though that would be interesting to evaluate because eventhough it belongs to Spain at the moment, has another local language which is catalan and names of street are usually in that language. Also, I can evaluate if the results I got make sense because I know the city"
   ]
  },
  {
   "cell_type": "markdown",
   "metadata": {},
   "source": [
    "## Problems encountered in the map"
   ]
  },
  {
   "cell_type": "markdown",
   "metadata": {},
   "source": [
    "After first audit of a sample of Barcelona dataset, I've found following problems\n",
    "\n",
    "- Street names are in catalan and spanish and there are some misspelled abbreviations\n",
    "\n",
    "- There are some street names that don't mention the type of street. For instance, Carrer Sant Antoni Maria Claret appeared just as Sant Antoni Maria Claret \n",
    "\n",
    "- Postcode in Barcelona should have this format '08xxx'. However I've found on this dataset postcodes that didn't begin with 08 or have more digits than 5\n",
    "\n",
    "For this project I've updated street names and postcodes. However, running some queries I found that city name should be updated it too\n"
   ]
  },
  {
   "cell_type": "markdown",
   "metadata": {},
   "source": [
    "### Update postcode"
   ]
  },
  {
   "cell_type": "markdown",
   "metadata": {},
   "source": [
    "First audit (sample) shows that postcodes with errors were\n",
    "{'08', '28038', 'Barcelona', '08012 Barcelona'}\n",
    "So, I've created update_postcode function using regular expression that detects this format as expected '08xxx' and remove those errors\n",
    "\n",
    "Audting complete dataset reveals another issues, such as postcodes with this format '8xxx'. In this case I've assume that first 0 was forgotten and update function adding this rule"
   ]
  },
  {
   "cell_type": "code",
   "execution_count": null,
   "metadata": {
    "collapsed": true
   },
   "outputs": [],
   "source": [
    "def update_postcode(postcode):\n",
    "\n",
    "    expected = re.match (r'^\\d*([0][8]\\d{3})', postcode) #Postcode should have '08xxx' format\n",
    "    search = re.match(r'^\\d*([0][8]\\d{3})\\d', postcode)\n",
    "    \n",
    "    #Audit shows that some postcode errors have this format '8xxx'. So, it's possible that 0 was forgotten.\n",
    "    if expected is None: \n",
    "        wrong_pc = re.search (r'^([8]\\d{3})', postcode) #For postcode with format '8xxx',this function add 0 before \n",
    "        if wrong_pc is None or len(postcode) >4:\n",
    "            clean_postcode = 'NA'\n",
    "        else:\n",
    "            clean_postcode = '0' + wrong_pc.group(1)\n",
    "            \n",
    "    elif search is not None:   #Fix error for postcode that begins with '08' but have more than 5 digits\n",
    "        clean_postcode = 'NA'\n",
    "\n",
    "    else:\n",
    "      \n",
    "         # select the group that is captured\n",
    "        clean_postcode = expected.group(1)          \n",
    "    \n",
    "    return clean_postcode  \n"
   ]
  },
  {
   "cell_type": "markdown",
   "metadata": {},
   "source": [
    "The format of street type in Barcelona should be: first word refears to street type + name (Ex Avinguda Diagonal). So, auditing sample data shows several errors like misspelled words and abbreviations, type of streets in Spanish and other in Catalan. In order to fix this issues I've used as expected values catalan words and add to mapping most frequent mistakes found on audit.\n",
    "\n",
    "Another errors found were that some street names don't have the type of street. For instance Bac': {'Bac de Roda'}, were should be Carrer Bac de Roda. Ins this cases I dismissed the value if were not found on expected or mapping."
   ]
  },
  {
   "cell_type": "code",
   "execution_count": null,
   "metadata": {
    "collapsed": true
   },
   "outputs": [],
   "source": [
    "def update_name(name, mapping):\n",
    "\n",
    "    m = street_type_re.search(name)\n",
    "    if m:\n",
    "        street_type = m.group(1)\n",
    "        if street_type not in expected:\n",
    "            if street_type in mapping.keys():\n",
    "                name = re.sub(street_type_re, mapping[street_type], name)\n",
    "\n",
    "    return name"
   ]
  },
  {
   "cell_type": "markdown",
   "metadata": {},
   "source": [
    "# Overview of the data"
   ]
  },
  {
   "cell_type": "markdown",
   "metadata": {},
   "source": [
    "### File sizes"
   ]
  },
  {
   "cell_type": "code",
   "execution_count": null,
   "metadata": {},
   "outputs": [],
   "source": [
    "-rw-r--r--@ 1 Alicia  staff  258804451 Sep 24 19:53 barcelona_spain.osm\n",
    "-rw-r--r--  1 Alicia  staff  183988224 Sep 30 10:31 bcn_osm.db\n",
    "-rw-r--r--  1 Alicia  staff  94739881 Sep 29 01:14 nodes.csv\n",
    "-rw-r--r--  1 Alicia  staff  8530844 Sep 29 01:14 nodes_tags.csv\n",
    "-rw-r--r--  1 Alicia  staff  8909642 Sep 29 01:31 ways.csv\n",
    "-rw-r--r--  1 Alicia  staff  13955073 Sep 29 01:31 ways_tags.csv\n",
    "-rw-r--r--  1 Alicia  staff  35568590 Sep 29 01:31 ways_nodes.csv\n"
   ]
  },
  {
   "cell_type": "markdown",
   "metadata": {
    "collapsed": true
   },
   "source": [
    "#### Count nodes"
   ]
  },
  {
   "cell_type": "code",
   "execution_count": null,
   "metadata": {},
   "outputs": [],
   "source": [
    "sqlite> SELECT COUNT(*) FROM nodes;\n",
    "1144437"
   ]
  },
  {
   "cell_type": "markdown",
   "metadata": {},
   "source": [
    "### Count tags"
   ]
  },
  {
   "cell_type": "code",
   "execution_count": null,
   "metadata": {},
   "outputs": [],
   "source": [
    "count_tags (\"barcelona_spain.osm\")\n",
    "\n",
    "{'bounds': 1,\n",
    " 'member': 49560,\n",
    " 'nd': 1471724,\n",
    " 'node': 1144437,\n",
    " 'osm': 1,\n",
    " 'relation': 3499,\n",
    " 'tag': 623352,\n",
    " 'way': 146279}\n"
   ]
  },
  {
   "cell_type": "markdown",
   "metadata": {},
   "source": [
    "### Number of unique user"
   ]
  },
  {
   "cell_type": "code",
   "execution_count": null,
   "metadata": {},
   "outputs": [],
   "source": [
    "sqlite> SELECT COUNT(DISTINCT(k.uid))\n",
    "   ...> FROM (SELECT uid FROM nodes UNION ALL SELECT uid FROM ways) as k;\n",
    "2821"
   ]
  },
  {
   "cell_type": "markdown",
   "metadata": {},
   "source": [
    "### Count cities "
   ]
  },
  {
   "cell_type": "code",
   "execution_count": null,
   "metadata": {},
   "outputs": [],
   "source": [
    "sqlite> SELECT tags.value, COUNT(*) as count\n",
    "   ...> FROM (SELECT * FROM nodes_tags UNION ALL SELECT * FROM ways_tags) as tags\n",
    "   ...> WHERE tags.key = 'city'\n",
    "   ...> GROUP BY tags.value\n",
    "   ...> ORDER BY count DESC;\n",
    "Barcelona|9560\n",
    "Santa Coloma de Cervelló|2969\n",
    "Cornellà de Llobregat|562\n",
    "Badalona|547\n",
    "El Prat de Llobregat|240\n",
    "L'Hospitalet de Llobregat|167\n",
    "Sant Cugat del Vallès|114\n",
    "Sant Boi de Llobregat|92\n",
    "Sant Fost de Campsentelles|64\n",
    "Ripollet|58\n",
    "Sant Feliu de Llobregat|55\n",
    "Prat de Llobregat|54\n",
    "Cerdanyola del Vallès|36\n",
    "Esplugues de Llobregat|32\n",
    "Santa Coloma de Gramenet|28\n",
    "Castelldefels|25\n",
    "Sant Just Desvern|22\n",
    "l'Hospitalet de Llobregat|22\n",
    "Sant Adrià de Besòs|18\n",
    "Sant Vicenç dels Horts|18\n",
    "Badia del Vallès|16\n",
    "Bellaterra|14\n",
    "barcelona|14\n",
    "Santa Coloma de Gramanet|13\n",
    "Montcada i Reixac|12\n",
    "Sabadell|12\n",
    "Corbera de Llobregat|10\n",
    "Gavà|9\n",
    "Sant Andreu de la Barca|9\n",
    "Sant Joan Despí|7\n",
    "BARCELONA|6\n",
    "Rubí|6\n",
    "Viladecans|6\n",
    "la Palma de Cervelló|6\n",
    "Hospitalet de Llobregat|5\n",
    "Barberà del Vallès|4\n",
    "Martorell|4\n",
    "Molins de Rei|4\n",
    "Pallejà|4\n",
    "Sant Cugat de Vallés|4\n",
    "Torrelles de Llobregat|4\n",
    "cerdanyola del vallès|4\n",
    "Alella|3\n",
    "Bacelona|3\n",
    "Castellbisbal|3\n",
    "L'Hospitalet de Llobregat, Barcelona|3\n",
    "Sant Quirze del Vallès|3\n",
    "Santa Perpètua de Mogoda|3\n",
    "Santa coloma de Cervelló|3\n",
    "Abrera|2\n",
    "Barelcona|2\n",
    "Cerdanyola del Valles|2\n",
    "La Palma de Cervelló|2\n",
    "Montgat|2\n",
    "Sant Adrià del Besós|2\n",
    "Valldoreix, Sant Cugat del Vallès|2\n",
    "Vallromanes|2\n",
    "santa Coloma de Cervelló|2\n",
    "08005|1\n",
    "08027|1\n",
    "Barcelana|1\n",
    "Begues|1\n",
    "Bellaterra (Cerdanyola del Vallès)|1\n",
    "Bellvitge|1\n",
    "Gavà Mar|1\n",
    "Mira-sol|1\n",
    "Mira-sol. Sant Cugat del Vallès|1\n",
    "Montcada i reixac|1\n",
    "Sant Adrià de Basòs|1\n",
    "Sant Adrià de Besos|1\n",
    "Sant Adrià del Besòs|1\n",
    "Sant Adriá del Besós|1\n",
    "Sant Climent de Llobregat|1\n",
    "Sant Cugat del Vallés|1\n",
    "Santa Perpetua de Moguda|1\n",
    "Tiana|1\n",
    "cerdanyola del Vallès|1\n",
    "el Masnou|1\n",
    "el Prat del Llobregat Barcelona|1\n",
    "la Llagosta|1\n",
    "sabadell|1\n",
    "sant Andreu de la barca|1\n",
    "sant Feliu de Llobregat|1\n",
    "sant Feliu de llobregat|1\n",
    "sant feliu de llobregat|1\n",
    "sqlite> \n"
   ]
  },
  {
   "cell_type": "markdown",
   "metadata": {},
   "source": [
    "This query shows that there are some mistakes in city data, such as postcode instead of city name or misspelled city names, such as Barelcona|2 or same city written in different ways, such as\n",
    "sant Feliu de Llobregat|1\n",
    "sant Feliu de llobregat|1\n",
    "sant feliu de llobregat|1\n",
    "\n",
    "Also shows that Barcelona is the name of city and state and Barcelona city is the most frequent city in this dataset "
   ]
  },
  {
   "cell_type": "markdown",
   "metadata": {},
   "source": [
    "### Top nodes amenities"
   ]
  },
  {
   "cell_type": "code",
   "execution_count": null,
   "metadata": {},
   "outputs": [],
   "source": [
    "sqlite> SELECT value, COUNT(*) as num\n",
    "   ...> FROM nodes_tags\n",
    "   ...> WHERE key='amenity'\n",
    "   ...> GROUP BY value\n",
    "   ...> ORDER BY num DESC\n",
    "   ...> LIMIT 10;\n",
    "restaurant|1835\n",
    "bench|1246\n",
    "drinking_water|1117\n",
    "bar|776\n",
    "recycling|681\n",
    "bank|620\n",
    "parking_entrance|573\n",
    "pharmacy|569\n",
    "cafe|568\n",
    "parking|413"
   ]
  },
  {
   "cell_type": "markdown",
   "metadata": {},
   "source": [
    "I found interesting that amount number of drinking_water in this dataset is bigger than bars"
   ]
  },
  {
   "cell_type": "markdown",
   "metadata": {},
   "source": [
    "### Type of cuisine"
   ]
  },
  {
   "cell_type": "code",
   "execution_count": null,
   "metadata": {},
   "outputs": [],
   "source": [
    "This query shows top 10 type of restaurants in Barcelona\n",
    "\n",
    "sqlite> SELECT value, COUNT(*) AS count\n",
    "   ...> FROM nodes_tags \n",
    "   ...> WHERE nodes_tags.key = 'cuisine'\n",
    "   ...> GROUP BY value\n",
    "   ...> ORDER BY count DESC\n",
    "   ...> LIMIT 10;\n",
    "regional|166\n",
    "spanish|133\n",
    "burger|70\n",
    "pizza|67\n",
    "japanese|62\n",
    "tapas|60\n",
    "italian|55\n",
    "chinese|31\n",
    "kebab|28\n",
    "chicken|24\n"
   ]
  },
  {
   "cell_type": "markdown",
   "metadata": {},
   "source": [
    "### Number of schools per city"
   ]
  },
  {
   "cell_type": "code",
   "execution_count": null,
   "metadata": {},
   "outputs": [],
   "source": [
    "sqlite> SELECT nodes_tags.value, COUNT(*) as num\n",
    "   ...> FROM nodes_tags \n",
    "   ...> JOIN (SELECT DISTINCT(id) FROM nodes_tags WHERE value='school') i\n",
    "   ...> ON nodes_tags.id=i.id\n",
    "   ...> WHERE nodes_tags.key='city'\n",
    "   ...> GROUP BY nodes_tags.value\n",
    "   ...> ORDER BY num DESC\n",
    "   ...> LIMIT 20;\n",
    "Barcelona|11\n",
    "Badalona|5\n",
    "Santa Coloma de Cervelló|2\n",
    "Alella|1\n",
    "Ripollet|1\n",
    "Sant Cugat del Vallès|1\n",
    "Sant Feliu de Llobregat|1\n",
    "Santa Coloma de Gramenet|1\n"
   ]
  },
  {
   "cell_type": "markdown",
   "metadata": {},
   "source": [
    "This query shows that most of schools are located in Barcelona. However, it seems that there are a lot of schools that are not included in this dataset because total number is not big enough."
   ]
  },
  {
   "cell_type": "markdown",
   "metadata": {},
   "source": [
    "### Number of bicycle_rentals"
   ]
  },
  {
   "cell_type": "code",
   "execution_count": null,
   "metadata": {},
   "outputs": [],
   "source": [
    "sqlite> SELECT nodes_tags.value, COUNT(*) as num\n",
    "   ...> FROM nodes_tags \n",
    "   ...> JOIN (SELECT DISTINCT(id) FROM nodes_tags WHERE value='bicycle_rental') i\n",
    "   ...> ON nodes_tags.id=i.id\n",
    "   ...> WHERE nodes_tags.key='city'\n",
    "   ...> GROUP BY nodes_tags.value\n",
    "   ...> ORDER BY num DESC;\n",
    "Barcelona|29\n",
    "barcelona|6\n",
    "Bacelona|1\n"
   ]
  },
  {
   "cell_type": "markdown",
   "metadata": {},
   "source": [
    "This query shows that all bicycle_rentals are in Barcelona. However, shows again that city name should be updated"
   ]
  },
  {
   "cell_type": "markdown",
   "metadata": {},
   "source": [
    "## Conclusion"
   ]
  },
  {
   "cell_type": "markdown",
   "metadata": {},
   "source": [
    "In general, I would say that this dataset is not complete and have a lot of things to clean because there are some inputs in Spanish and other in Catalan and there are a lot of misspelled words or abreviations, specially mispelled words in Catalan. This project only cover some of the things to clean, such as update postcode and street name but needs some improvements; such as update city names and remove postcode with city tag.\n",
    "\n",
    "I found interesting that for some queries it seems that there is a lot of data missing, such as schools by city. However, for other queries it seems that there is a lot of detail; such as amenities which mentioned number of drinking_water."
   ]
  }
 ],
 "metadata": {
  "anaconda-cloud": {},
  "kernelspec": {
   "display_name": "Python 3",
   "language": "python",
   "name": "python3"
  },
  "language_info": {
   "codemirror_mode": {
    "name": "ipython",
    "version": 3
   },
   "file_extension": ".py",
   "mimetype": "text/x-python",
   "name": "python",
   "nbconvert_exporter": "python",
   "pygments_lexer": "ipython3",
   "version": "3.6.4"
  }
 },
 "nbformat": 4,
 "nbformat_minor": 1
}
